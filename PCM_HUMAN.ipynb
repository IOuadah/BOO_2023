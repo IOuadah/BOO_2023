{
 "cells": [
  {
   "cell_type": "code",
   "execution_count": null,
   "id": "1f44c35c-ac83-4380-89a0-c0cded922e93",
   "metadata": {},
   "outputs": [],
   "source": [
    "import prodec\n",
    "from pcm_dataset import AR_PCM_HUMAN\n",
    "from qsprpred.data.utils.datasplitters import randomsplit, temporalsplit, scaffoldsplit\n",
    "from qsprpred.extra.data.utils.datasplitters import LeaveTargetsOut, StratifiedPerTarget, TemporalPerTarget\n",
    "from qsprpred.data.utils.featurefilters import highCorrelationFilter, lowVarianceFilter\n",
    "from qsprpred.data.utils.descriptorcalculator import MoleculeDescriptorsCalculator\n",
    "from qsprpred.extra.data.utils.descriptorcalculator import ProteinDescriptorCalculator\n",
    "from qsprpred.data.utils.descriptorsets import FingerprintSet\n",
    "from qsprpred.extra.data.utils.descriptorsets import ProDecDescriptorSet\n",
    "from qsprpred.extra.data.utils.descriptor_utils.msa_calculator import ClustalMSA\n",
    "from qsprpred.extra.data.data import PCMDataset\n",
    "from qsprpred.models.tasks import TargetTasks\n",
    "\n",
    "from sklearn.ensemble import RandomForestClassifier\n",
    "from qsprpred.extra.models.pcm import QSPRsklearnPCM\n",
    "from qsprpred.plotting.classification import ROCPlot, MetricsPlot\n",
    "from qsprpred.models.interfaces import QSPRModel\n",
    "from qsprpred.models.hyperparam_optimization import OptunaOptimization\n"
   ]
  },
  {
   "cell_type": "markdown",
   "id": "bd9f4430-cc8a-4c67-878e-6414de7f7a21",
   "metadata": {
    "tags": []
   },
   "source": [
    "## Fingerprints and descriptors"
   ]
  },
  {
   "cell_type": "raw",
   "id": "d13d6d8c-02b7-4c75-a98a-f9fa95970090",
   "metadata": {},
   "source": [
    "['ADFQ', 'BLOSUM', 'c-scales', 'CBFQ', 'CDFQ', 'Combined descriptors', 'Contact energies', 'CUFQ', 'DPPS', 'E-scale', 'FASGAI', 'G-scales', 'GH-scale', 'GRID tscore', 'HESH', 'HPI', 'HSEHPCSV', 'Independent descriptors', 'ISA-ECI', 'Kidera', 'MS-WHIM', 'P-scale', 'PhysChem', 'ProtFP hash', 'ProtFP PCA', 'PSM', 'QCP', 'Raychaudhury', 'Sneath', 'SSIA AM1', 'SSIA DFT', 'SSIA HF', 'SSIA PM3', 'STscale', 'SVEEVA', 'SVGER', 'SVHEHS', 'SVMW', 'SVRDF', 'SVRG', 'SVWG', 'SZOTT', 'Tscale', 'V-scale', 'VARIMAX', 'VHSE', 'VHSEH', 'VSGETAWAY', 'VSTPV', 'VSTV', 'VSW', 'VTSA', 'Zscale binary', 'Zscale Hellberg', 'Zscale Jonsson', 'Zscale Sandberg', 'Zscale Sjöström', 'Zscale van Westen']"
   ]
  },
  {
   "cell_type": "code",
   "execution_count": null,
   "id": "26181749-055c-419b-bb01-62f98f6e66a3",
   "metadata": {},
   "outputs": [],
   "source": [
    "from qsprpred.data.utils.descriptorsets import rdkit_descs\n",
    "\n",
    "\n",
    "calc_prot_Zscale = ProteinDescriptorCalculator(\n",
    "    descsets=[ProDecDescriptorSet(sets=[\"Zscale Hellberg\"])],\n",
    "    msa_provider=ClustalMSA(out_dir=\"data\")\n",
    ")\n",
    "\n",
    "\n",
    "# # zscale binned\n",
    "# calc_prot_ZscaleBinned = ProteinDescriptorCalculator(\n",
    "#     descsets=[ProDecDescriptorSet(sets=[\"Zscale binary\"])],\n",
    "#     msa_provider=ClustalMSA(out_dir=\"data\")\n",
    "# )\n",
    "\n",
    "# #zscale binned with protfp pca\n",
    "# calc_prot_ZscaleBinned_protFPpca = ProteinDescriptorCalculator(\n",
    "#     descsets=[ProDecDescriptorSet(sets=[\"Zscale binary\", 'ProtFP PCA'])],\n",
    "#     msa_provider=ClustalMSA(out_dir=\"data\")\n",
    "# )\n",
    "\n",
    "# # zscale pc 5 \n",
    "# calc_prot_ZscalePC5 = ProteinDescriptorCalculator(\n",
    "#     descsets=[ProDecDescriptorSet(sets=[\"Zscale Sandberg\"])],\n",
    "#     msa_provider=ClustalMSA(out_dir=\"data\")\n",
    "# )\n",
    "\n",
    "# zscal 3 and prtofp feature (hash)\n",
    "calc_prot_ZscalePC3_protFPfeature = ProteinDescriptorCalculator(\n",
    "    descsets=[ProDecDescriptorSet(sets=[\"Zscale van Westen\", 'ProtFP hash'])],\n",
    "    msa_provider=ClustalMSA(out_dir=\"data\")\n",
    ")\n",
    "\n",
    "\n",
    "# MS-WHIM\n",
    "calc_prot_MS_WHIM = ProteinDescriptorCalculator(\n",
    "    descsets=[ProDecDescriptorSet(sets=[\"MS-WHIM\"])],\n",
    "    msa_provider=ClustalMSA(out_dir=\"data\")\n",
    ")\n",
    "\n",
    "# Molecular fingerprints\n",
    "calc_mol_MFP = MoleculeDescriptorsCalculator(descsets = [FingerprintSet(fingerprint_type=\"MorganFP\", radius=3, nBits=2048)])\n",
    "calc_mol_Rdkit = MoleculeDescriptorsCalculator(descsets = [rdkit_descs()])\n",
    "calc_mol_MFP_Rdkit = MoleculeDescriptorsCalculator(descsets = [FingerprintSet(fingerprint_type=\"MorganFP\", radius=3, nBits=2048), rdkit_descs()])\n",
    "\n"
   ]
  },
  {
   "cell_type": "markdown",
   "id": "cb9f606f-009f-4919-8289-02c1fbf1e6ad",
   "metadata": {
    "tags": []
   },
   "source": [
    "# Data prep"
   ]
  },
  {
   "cell_type": "markdown",
   "id": "50828175-9883-4558-8837-f7f26fd060b2",
   "metadata": {
    "tags": []
   },
   "source": [
    "## Different descriptors and fingerprints"
   ]
  },
  {
   "cell_type": "code",
   "execution_count": null,
   "id": "9df51168-b7a0-41c3-8aa7-f0ba3d73ca8c",
   "metadata": {
    "tags": []
   },
   "outputs": [],
   "source": [
    "# rd kit descriptors  => pharmacore\n",
    "\n",
    "# AR_PCM_HUMAN([\"Ki\", \"IC50\"], \"AR_LIGANDS_HUMAN_Counts\")\n",
    "\n",
    "# # zscal 3 and prtofp feature (hash)\n",
    "ds_ZPC3_protFPfeature_MorganFP = AR_PCM_HUMAN([\"Ki\", \"IC50\"], \"AR_LIGANDS_HUMAN_ZPC3_protFPfeature_MorganFP\", data_dir= 'data/LeaveOutSplit_4')\n",
    "ds_ZPC3_protFPfeature_Rdkit = AR_PCM_HUMAN([\"Ki\", \"IC50\"], \"AR_LIGANDS_HUMAN_ZPC3_protFPfeature_Rdkit\", data_dir= 'data/LeaveOutSplit_4')\n",
    "ds_ZPC3_protFPfeature_MorganFP_Rdkit = AR_PCM_HUMAN([\"Ki\", \"IC50\"], \"AR_LIGANDS_HUMAN_ZPC3_protFPfeature_MorganFP_Rdkit\", data_dir= 'data/LeaveOutSplit_4')\n",
    "\n",
    "# # MS-WHIM\n",
    "ds_MS_WHIM_MorganFP = AR_PCM_HUMAN([\"Ki\", \"IC50\"], \"AR_LIGANDS_HUMAN_MS_WHIM_MorganFP\", data_dir= 'data/LeaveOutSplit_4')\n",
    "ds_MS_WHIM_Rdkit = AR_PCM_HUMAN([\"Ki\", \"IC50\"], \"AR_LIGANDS_HUMAN_MS_WHIM_Rdkit\", data_dir= 'data/LeaveOutSplit_4')\n",
    "ds_MS_WHIM_MorganFP_Rdkit = AR_PCM_HUMAN([\"Ki\", \"IC50\"], \"AR_LIGANDS_HUMAN_MS_WHIM_MorganFP_Rdkit\", data_dir= 'data/LeaveOutSplit_4')\n",
    "\n",
    "DS_LIST = [ds_ZPC3_protFPfeature_MorganFP, ds_ZPC3_protFPfeature_Rdkit, ds_ZPC3_protFPfeature_MorganFP_Rdkit, ds_MS_WHIM_MorganFP, ds_MS_WHIM_Rdkit, ds_MS_WHIM_MorganFP_Rdkit]\n",
    "for ds in DS_LIST:\n",
    "    ds.save()\n"
   ]
  },
  {
   "cell_type": "code",
   "execution_count": null,
   "id": "b2775a2a-7f54-4d93-b890-fb5c0bd1fed4",
   "metadata": {
    "tags": []
   },
   "outputs": [],
   "source": [
    "ds_ZPC3_protFPfeature_MorganFP.getDF().columns"
   ]
  },
  {
   "cell_type": "code",
   "execution_count": null,
   "id": "dca68254-2884-4353-b4cd-077af144e0f9",
   "metadata": {
    "tags": []
   },
   "outputs": [],
   "source": [
    "ds_ZPC3_protFPfeature_MorganFP.getDF()[[\"accession\", \"Year\"]].query('accession == \"P29274\"').sort_values('Year')"
   ]
  },
  {
   "cell_type": "code",
   "execution_count": null,
   "id": "9066cf8f-dfc1-49c9-8e49-38a9bd42c997",
   "metadata": {},
   "outputs": [],
   "source": [
    "DS_FP_LIST = [[ds_ZPC3_protFPfeature_MorganFP, ds_ZPC3_protFPfeature_Rdkit, ds_ZPC3_protFPfeature_MorganFP_Rdkit],\n",
    "             [ds_MS_WHIM_MorganFP, ds_MS_WHIM_Rdkit, ds_MS_WHIM_MorganFP_Rdkit]]\n",
    "\n",
    "CALC_FP_LIST = [calc_mol_MFP, calc_mol_Rdkit, calc_mol_MFP_Rdkit]\n",
    "\n",
    "PROT_FP_LIST = [calc_prot_ZscalePC3_protFPfeature,\n",
    "                calc_prot_MS_WHIM]\n",
    "\n",
    "\n",
    "# # leave target out split (left out the A2A and A2B, both in human and in rat)\n",
    "# for i, prot_calc in enumerate(PROT_FP_LIST):\n",
    "#     for ds, calc in zip(DS_FP_LIST[i], CALC_FP_LIST):\n",
    "#         ds.nJobs = 4\n",
    "#         ds.prepareDataset(\n",
    "#         split=LeaveTargetsOut([\"P29275\", \"P30542\"], ds),\n",
    "#         feature_calculators=[prot_calc, calc],\n",
    "#         feature_fill_value=0,\n",
    "#         recalculate_features = True,\n",
    "#         feature_filters = [highCorrelationFilter(0.9), lowVarianceFilter(0.0)])\n",
    "        \n",
    "#         ds.save()\n",
    "        \n",
    "# # leave target out split (left out the A1 , both in human and in rat)\n",
    "# for i, prot_calc in enumerate(PROT_FP_LIST):\n",
    "#     for ds, calc in zip(DS_FP_LIST[i], CALC_FP_LIST):\n",
    "#         ds.nJobs = 4\n",
    "#         ds.prepareDataset(\n",
    "#         split=LeaveTargetsOut([\"P29274\"], ds),\n",
    "#         feature_calculators=[prot_calc, calc],\n",
    "#         feature_fill_value=0,\n",
    "#         recalculate_features = True,\n",
    "#         feature_filters = [highCorrelationFilter(0.9), lowVarianceFilter(0.0)])\n",
    "        \n",
    "#         ds.save()\n",
    "\n",
    "# leave target out split (left out the A3 , only in human)\n",
    "# for i, prot_calc in enumerate(PROT_FP_LIST):\n",
    "#     for ds, calc in zip(DS_FP_LIST[i], CALC_FP_LIST):\n",
    "#         ds.nJobs = 4\n",
    "#         ds.prepareDataset(\n",
    "#         split=LeaveTargetsOut([\"P0DMS8\"], ds),\n",
    "#         feature_calculators=[prot_calc, calc],\n",
    "#         feature_fill_value=0,\n",
    "#         recalculate_features = True,\n",
    "#         feature_filters = [highCorrelationFilter(0.9), lowVarianceFilter(0.0)])\n",
    "        \n",
    "#         ds.save()\n",
    "        \n",
    "# temporal per target split\n",
    "for i, prot_calc in enumerate(PROT_FP_LIST):\n",
    "    for ds, calc in zip(DS_FP_LIST[i], CALC_FP_LIST):\n",
    "        ds.nJobs = 4\n",
    "        ds.prepareDataset(\n",
    "        split=TemporalPerTarget(\"Year\", {\"P29274\": 2014, \"P29275\": 2014, \"P30542\":2015, \"P0DMS8\": 2016}),\n",
    "        feature_calculators=[prot_calc, calc],\n",
    "        feature_fill_value=0,\n",
    "        recalculate_features = True,\n",
    "        feature_filters = [highCorrelationFilter(0.9), lowVarianceFilter(0.0)])\n",
    "        \n",
    "        ds.save()\n",
    "        \n",
    "# random split\n",
    "# for i, prot_calc in enumerate(PROT_FP_LIST):\n",
    "#     for ds, calc in zip(DS_FP_LIST[i], CALC_FP_LIST):\n",
    "#         ds.nJobs = 4\n",
    "#         ds.prepareDataset(\n",
    "#         split=StratifiedPerTarget(splitter=randomsplit(0.2)),\n",
    "#         feature_calculators=[prot_calc, calc],\n",
    "#         feature_fill_value=0,\n",
    "#         recalculate_features = True,\n",
    "#         feature_filters = [highCorrelationFilter(0.9), lowVarianceFilter(0.0)])\n",
    "        \n",
    "#         ds.save()"
   ]
  },
  {
   "cell_type": "code",
   "execution_count": null,
   "id": "9fb6f950-916f-4931-b897-812e73beba96",
   "metadata": {},
   "outputs": [],
   "source": [
    "ds_ZPC3_protFPfeature_MorganFP.getFeatures()[0]"
   ]
  },
  {
   "cell_type": "markdown",
   "id": "560e01f9-3768-471f-8777-c0989d43f5b7",
   "metadata": {
    "tags": []
   },
   "source": [
    "# Loading in the datasets"
   ]
  },
  {
   "cell_type": "code",
   "execution_count": null,
   "id": "4ac6f0fa-bf76-4805-b0da-cf31a334bc61",
   "metadata": {},
   "outputs": [],
   "source": [
    "tp = [\n",
    "            {\n",
    "                \"name\": \"pchembl_value_Median\",\n",
    "                \"task\": TargetTasks.SINGLECLASS,\n",
    "                \"th\": [6.5]\n",
    "            }\n",
    "        ]"
   ]
  },
  {
   "cell_type": "markdown",
   "id": "0a882a08-2bf4-4907-92bb-0658bab338e0",
   "metadata": {
    "tags": []
   },
   "source": [
    "## Z-scale with 3 PCs and protFP feature (hashed)"
   ]
  },
  {
   "cell_type": "markdown",
   "id": "399f3987-a8d0-4961-894d-ba105528f451",
   "metadata": {},
   "source": [
    "###### datasets"
   ]
  },
  {
   "cell_type": "code",
   "execution_count": null,
   "id": "38104693-e16a-4b8a-80d7-22891e0739da",
   "metadata": {},
   "outputs": [],
   "source": [
    "# temporalsplit\n",
    "# ds_ZPC3_protFPfeature_MorganFP = PCMDataset(name=\"AR_LIGANDS_HUMAN_ZPC3_protFPfeature_MorganFP\", store_dir=\"data/LeaveOutSplit_4\", proteincol = \"accession\", target_props = tp)\n",
    "# ds_ZPC3_protFPfeature_Rdkit = PCMDataset(name=\"AR_LIGANDS_HUMAN_ZPC3_protFPfeature_Rdkit\", store_dir=\"data/LeaveOutSplit_4\", proteincol = \"accession\", target_props = tp)\n",
    "# ds_ZPC3_protFPfeature_MorganFP_Rdkit = PCMDataset(name=\"AR_LIGANDS_HUMAN_ZPC3_protFPfeature_MorganFP_Rdkit\", store_dir=\"data/LeaveOutSplit_4\", proteincol = \"accession\", target_props = tp)\n",
    "\n",
    "\n",
    "# leave target out split (left out the A2A and A2B, both in human and in rat)\n",
    "ds_ZPC3_protFPfeature_MorganFP = PCMDataset(name=\"AR_LIGANDS_HUMAN_ZPC3_protFPfeature_MorganFP\", store_dir=\"data/LeaveOutSplit_1\", proteincol = \"accession\", target_props = tp)\n",
    "ds_ZPC3_protFPfeature_Rdkit = PCMDataset(name=\"AR_LIGANDS_HUMAN_ZPC3_protFPfeature_Rdkit\", store_dir=\"data/LeaveOutSplit_1\", proteincol = \"accession\", target_props = tp)\n",
    "ds_ZPC3_protFPfeature_MorganFP_Rdkit = PCMDataset(name=\"AR_LIGANDS_HUMAN_ZPC3_protFPfeature_MorganFP_Rdkit\", store_dir=\"data/LeaveOutSplit_1\", proteincol = \"accession\", target_props = tp)\n",
    "\n",
    "# leave target out split (left out the A1 , both in human and in rat)\n",
    "# ds_ZPC3_protFPfeature_MorganFP = PCMDataset(name=\"AR_LIGANDS_HUMAN_ZPC3_protFPfeature_MorganFP\", store_dir=\"data/LeaveOutSplit_2\", proteincol = \"accession\", target_props = tp)\n",
    "# ds_ZPC3_protFPfeature_Rdkit = PCMDataset(name=\"AR_LIGANDS_HUMAN_ZPC3_protFPfeature_Rdkit\", store_dir=\"data/LeaveOutSplit_2\", proteincol = \"accession\", target_props = tp)\n",
    "# ds_ZPC3_protFPfeature_MorganFP_Rdkit = PCMDataset(name=\"AR_LIGANDS_HUMAN_ZPC3_protFPfeature_MorganFP_Rdkit\", store_dir=\"data/LeaveOutSplit_2\", proteincol = \"accession\", target_props = tp)\n",
    "\n",
    "# leave target out split (left out the A3, only in human)\n",
    "# ds_ZPC3_protFPfeature_MorganFP = PCMDataset(name=\"AR_LIGANDS_HUMAN_ZPC3_protFPfeature_MorganFP\", store_dir=\"data/LeaveOutSplit_3\", proteincol = \"accession\", target_props = tp)\n",
    "# ds_ZPC3_protFPfeature_Rdkit = PCMDataset(name=\"AR_LIGANDS_HUMAN_ZPC3_protFPfeature_Rdkit\", store_dir=\"data/LeaveOutSplit_3\", proteincol = \"accession\", target_props = tp)\n",
    "# ds_ZPC3_protFPfeature_MorganFP_Rdkit = PCMDataset(name=\"AR_LIGANDS_HUMAN_ZPC3_protFPfeature_MorganFP_Rdkit\", store_dir=\"data/LeaveOutSplit_3\", proteincol = \"accession\", target_props = tp)\n",
    "\n",
    "# random split\n",
    "# ds_ZPC3_protFPfeature_MorganFP = PCMDataset(name=\"AR_LIGANDS_HUMAN_ZPC3_protFPfeature_MorganFP\", store_dir=\"data\", proteincol = \"accession\", target_props = tp)\n",
    "# ds_ZPC3_protFPfeature_Rdkit = PCMDataset(name=\"AR_LIGANDS_HUMAN_ZPC3_protFPfeature_Rdkit\", store_dir=\"data\", proteincol = \"accession\", target_props = tp)\n",
    "# ds_ZPC3_protFPfeature_MorganFP_Rdkit = PCMDataset(name=\"AR_LIGANDS_HUMAN_ZPC3_protFPfeature_MorganFP_Rdkit\", store_dir=\"data\", proteincol = \"accession\", target_props = tp)\n",
    "\n",
    "DS_LIST = [ds_ZPC3_protFPfeature_MorganFP, ds_ZPC3_protFPfeature_Rdkit, ds_ZPC3_protFPfeature_MorganFP_Rdkit]\n",
    "for ds in DS_LIST:\n",
    "    print(ds.name, len(ds))"
   ]
  },
  {
   "cell_type": "markdown",
   "id": "465a0e26-98e3-403b-abbc-760776d59a13",
   "metadata": {},
   "source": [
    "###### Models"
   ]
  },
  {
   "cell_type": "code",
   "execution_count": null,
   "id": "b9bf993f-ec40-4724-a992-60fe87e47c10",
   "metadata": {},
   "outputs": [],
   "source": []
  },
  {
   "cell_type": "markdown",
   "id": "92fae9ed-c1cd-493a-966f-0749d24617df",
   "metadata": {
    "tags": []
   },
   "source": [
    "## MS-WHIM"
   ]
  },
  {
   "cell_type": "markdown",
   "id": "04325459-473c-4fd6-90bb-418fe220558b",
   "metadata": {},
   "source": [
    "###### datasets"
   ]
  },
  {
   "cell_type": "code",
   "execution_count": null,
   "id": "c859ef5a-9bca-4d58-8ed0-afc05c6b204d",
   "metadata": {},
   "outputs": [],
   "source": [
    "# temporal split\n",
    "# ds_MS_WHIM_MorganFP = PCMDataset(name=\"AR_LIGANDS_HUMAN_MS_WHIM_MorganFP\", store_dir=\"data/LeaveOutSplit_4\", proteincol = \"accession\", target_props = tp)\n",
    "# ds_MS_WHIM_Rdkit = PCMDataset(name=\"AR_LIGANDS_HUMAN_MS_WHIM_Rdkit\", store_dir=\"data/LeaveOutSplit_4\", proteincol = \"accession\", target_props = tp)\n",
    "# ds_MS_WHIM_MorganFP_Rdkit = PCMDataset(name=\"AR_LIGANDS_HUMAN_MS_WHIM_MorganFP_Rdkit\", store_dir=\"data/LeaveOutSplit_4\", proteincol = \"accession\", target_props = tp)\n",
    "\n",
    "\n",
    "# leave target out split (left out the A2A and A2B, both in human and in rat)\n",
    "# ds_MS_WHIM_MorganFP = PCMDataset(name=\"AR_LIGANDS_HUMAN_MS_WHIM_MorganFP\", store_dir=\"data/LeaveOutSplit_1\", proteincol = \"accession\", target_props = tp)\n",
    "# ds_MS_WHIM_Rdkit = PCMDataset(name=\"AR_LIGANDS_HUMAN_MS_WHIM_Rdkit\", store_dir=\"data/LeaveOutSplit_1\", proteincol = \"accession\", target_props = tp)\n",
    "# ds_MS_WHIM_MorganFP_Rdkit = PCMDataset(name=\"AR_LIGANDS_HUMAN_MS_WHIM_MorganFP_Rdkit\", store_dir=\"data/LeaveOutSplit_1\", proteincol = \"accession\", target_props = tp)\n",
    "\n",
    "# # leave target out split (left out the A1 and A3, both in human and in rat)\n",
    "# ds_MS_WHIM_MorganFP = PCMDataset(name=\"AR_LIGANDS_HUMAN_MS_WHIM_MorganFP\", store_dir=\"data/LeaveOutSplit_2\", proteincol = \"accession\", target_props = tp)\n",
    "# ds_MS_WHIM_Rdkit = PCMDataset(name=\"AR_LIGANDS_HUMAN_MS_WHIM_Rdkit\", store_dir=\"data/LeaveOutSplit_2\", proteincol = \"accession\", target_props = tp)\n",
    "# ds_MS_WHIM_MorganFP_Rdkit = PCMDataset(name=\"AR_LIGANDS_HUMAN_MS_WHIM_MorganFP_Rdkit\", store_dir=\"data/LeaveOutSplit_2\", proteincol = \"accession\", target_props = tp)\n",
    "\n",
    "# leave target out split (left out the A3, only in human)\n",
    "ds_MS_WHIM_MorganFP = PCMDataset(name=\"AR_LIGANDS_HUMAN_MS_WHIM_MorganFP\", store_dir=\"data/LeaveOutSplit_3\", proteincol = \"accession\", target_props = tp)\n",
    "ds_MS_WHIM_Rdkit = PCMDataset(name=\"AR_LIGANDS_HUMAN_MS_WHIM_Rdkit\", store_dir=\"data/LeaveOutSplit_3\", proteincol = \"accession\", target_props = tp)\n",
    "ds_MS_WHIM_MorganFP_Rdkit = PCMDataset(name=\"AR_LIGANDS_HUMAN_MS_WHIM_MorganFP_Rdkit\", store_dir=\"data/LeaveOutSplit_3\", proteincol = \"accession\", target_props = tp)\n",
    "\n",
    "# # random split\n",
    "# ds_MS_WHIM_MorganFP = PCMDataset(name=\"AR_LIGANDS_HUMAN_MS_WHIM_MorganFP\", store_dir=\"data\", proteincol = \"accession\", target_props = tp)\n",
    "# ds_MS_WHIM_Rdkit = PCMDataset(name=\"AR_LIGANDS_HUMAN_MS_WHIM_Rdkit\", store_dir=\"data\", proteincol = \"accession\", target_props = tp)\n",
    "# ds_MS_WHIM_MorganFP_Rdkit = PCMDataset(name=\"AR_LIGANDS_HUMAN_MS_WHIM_MorganFP_Rdkit\", store_dir=\"data\", proteincol = \"accession\", target_props = tp)\n",
    "\n",
    "DS_LIST = [ds_MS_WHIM_MorganFP, ds_MS_WHIM_Rdkit, ds_MS_WHIM_MorganFP_Rdkit]\n",
    "\n",
    "for ds in DS_LIST:\n",
    "    print(ds.name, len(ds))"
   ]
  },
  {
   "cell_type": "markdown",
   "id": "63b1f73a-0fe5-47ca-b06b-4e23167ecd0a",
   "metadata": {},
   "source": [
    "###### Models"
   ]
  },
  {
   "cell_type": "code",
   "execution_count": null,
   "id": "dbb07ddd-3aaf-4017-9f3f-60cf9f7fa028",
   "metadata": {},
   "outputs": [],
   "source": []
  },
  {
   "cell_type": "markdown",
   "id": "130bdb1e-6f0c-4137-83c3-901cafac9c6b",
   "metadata": {
    "tags": []
   },
   "source": [
    "# Model construction"
   ]
  },
  {
   "cell_type": "markdown",
   "id": "928df547-9a67-4ca8-bdcf-34cee5a92bba",
   "metadata": {
    "tags": []
   },
   "source": [
    "## Random Forest"
   ]
  },
  {
   "cell_type": "raw",
   "id": "b111f08f-bc7e-4466-913d-1c1c77cb7e50",
   "metadata": {
    "tags": []
   },
   "source": [
    "## RF params\n",
    "'bootstrap': True,\n",
    " 'ccp_alpha': 0.0,\n",
    " 'class_weight': None,\n",
    " 'criterion': 'gini',\n",
    " 'max_depth': None,\n",
    " 'max_features': 'sqrt',\n",
    " 'max_leaf_nodes': None,\n",
    " 'max_samples': None,\n",
    " 'min_impurity_decrease': 0.0,\n",
    " 'min_samples_leaf': 1,\n",
    " 'min_samples_split': 2,\n",
    " 'min_weight_fraction_leaf': 0.0,\n",
    " 'n_estimators': 100,\n",
    " 'n_jobs': None,\n",
    " 'oob_score': False,\n",
    " 'random_state': None,\n",
    " 'verbose': 0,\n",
    " 'warm_start': False}"
   ]
  },
  {
   "cell_type": "markdown",
   "id": "71ae5067-afdb-49f5-8a7c-cb191569d251",
   "metadata": {},
   "source": [
    "### descriptor comparison"
   ]
  },
  {
   "cell_type": "markdown",
   "id": "75a6cc67-724a-45d5-a6cf-61251127fb5a",
   "metadata": {
    "jp-MarkdownHeadingCollapsed": true,
    "tags": []
   },
   "source": [
    "#### Z-scale with 3 PCs and protFP feature (hashed)"
   ]
  },
  {
   "cell_type": "code",
   "execution_count": null,
   "id": "6f18f796-9a53-4d8f-ac73-f23b65b65bde",
   "metadata": {},
   "outputs": [],
   "source": [
    "params = {\n",
    "    'n_estimators' : [\"int\", 50, 500],\n",
    "    'n_jobs' : [\"int\", 4]\n",
    "}\n",
    "\n",
    "params = {\"n_estimators\": [\"int\", 10, 2000],\n",
    "        \"max_depth\": [\"int\", 1, 100],\n",
    "        \"min_samples_leaf\": [\"int\", 1, 25],\n",
    "        \"max_features\": [\"int\", 1, 100], \n",
    "        \"min_samples_split\": [\"int\", 2, 12],\n",
    "         'n_jobs' : [4]}"
   ]
  },
  {
   "cell_type": "code",
   "execution_count": null,
   "id": "cd049c4a-d546-4789-b3a1-309575b8da85",
   "metadata": {
    "tags": []
   },
   "outputs": [],
   "source": [
    "fitted_models = []\n",
    "for dataset in DS_LIST:\n",
    "    dataset.nJobs = 4\n",
    "    \n",
    "    model = QSPRsklearnPCM(base_dir = 'qspr/models/LeaveTargetSplit_1', data=dataset, alg = RandomForestClassifier, name= f\"{dataset.name[11:]}_RF_TargetSplit1\")\n",
    "\n",
    "    bayesoptimizer = OptunaOptimization(scoring = model.score_func, param_grid=params, n_trials=5)\n",
    "    best_params = bayesoptimizer.optimize(model)\n",
    "\n",
    "    model.evaluate()\n",
    "    model.fit()\n",
    "    model.save()\n",
    "    \n",
    "    fitted_models.append(model)\n",
    "\n",
    "fitted_model"
   ]
  },
  {
   "cell_type": "code",
   "execution_count": null,
   "id": "9c4dff02-7018-47ac-8a6a-f6a77f5dd634",
   "metadata": {},
   "outputs": [],
   "source": [
    "plot = ROCPlot(fitted_models)\n",
    "plot.make(\"pchembl_value_Median_class\", 'cv', save = False, show=True)"
   ]
  },
  {
   "cell_type": "code",
   "execution_count": null,
   "id": "29f9b5e8-ba9d-4649-b967-5e438d05ca29",
   "metadata": {},
   "outputs": [],
   "source": [
    "plot_metric = MetricsPlot(fitted_models)\n",
    "figs, summary = plot_metric.make(\"pchembl_value_Median_class\", show=False, save=False, out_dir=\"qspr/models/\")"
   ]
  },
  {
   "cell_type": "code",
   "execution_count": null,
   "id": "56360e04-6c72-4fee-ae18-9c5778cca630",
   "metadata": {},
   "outputs": [],
   "source": [
    "summary"
   ]
  },
  {
   "cell_type": "markdown",
   "id": "f91bb5c0-f637-4123-80bc-4b749f3ecc95",
   "metadata": {
    "tags": []
   },
   "source": [
    "#### MS-WHIM"
   ]
  },
  {
   "cell_type": "code",
   "execution_count": null,
   "id": "d907c984-804f-4108-9e3b-ca747df5ccb4",
   "metadata": {},
   "outputs": [],
   "source": [
    "params = {\n",
    "    'n_estimators' : [\"int\", 50, 500],\n",
    "    'n_jobs' : [\"int\", 4]\n",
    "}\n",
    "\n",
    "params = {\"n_estimators\": [\"int\", 10, 2000],\n",
    "        \"max_depth\": [\"int\", 1, 100],\n",
    "        \"min_samples_leaf\": [\"int\", 1, 25],\n",
    "        \"max_features\": [\"int\", 1, 100], \n",
    "        \"min_samples_split\": [\"int\", 2, 12],\n",
    "         'n_jobs' : [4]}"
   ]
  },
  {
   "cell_type": "code",
   "execution_count": null,
   "id": "033be835-39ca-42b0-9e0e-0ff9c1134314",
   "metadata": {
    "tags": []
   },
   "outputs": [],
   "source": [
    "fitted_models = []\n",
    "for dataset in DS_LIST:\n",
    "    dataset.nJobs = 4\n",
    "    \n",
    "    model = QSPRsklearnPCM(base_dir = 'qspr/models/LeaveTargetSplit_3', data=dataset, alg = RandomForestClassifier, name= f\"{dataset.name[11:]}_RF_TargetSplit3\")\n",
    "\n",
    "    bayesoptimizer = OptunaOptimization(scoring = model.score_func, param_grid=params, n_trials=5)\n",
    "    best_params = bayesoptimizer.optimize(model)\n",
    "\n",
    "    model.evaluate()\n",
    "    model.fit()\n",
    "    model.save()\n",
    "    \n",
    "    fitted_models.append(model)\n",
    "\n",
    "fitted_models"
   ]
  },
  {
   "cell_type": "code",
   "execution_count": null,
   "id": "86c8ae79-8ca9-4b86-906e-83a4fcc4fed0",
   "metadata": {},
   "outputs": [],
   "source": [
    "plot = ROCPlot(fitted_models)\n",
    "plot.make(\"pchembl_value_Median_class\", 'cv', save = False, show=True)"
   ]
  },
  {
   "cell_type": "code",
   "execution_count": null,
   "id": "8513e178-e78a-4c71-8452-e1e10509bd52",
   "metadata": {},
   "outputs": [],
   "source": [
    "plot_metric = MetricsPlot(fitted_models)\n",
    "figs, summary = plot_metric.make(\"pchembl_value_Median_class\", show=False, save=False, out_dir=\"qspr/models/\")"
   ]
  },
  {
   "cell_type": "code",
   "execution_count": null,
   "id": "2453d601-8dab-4aee-99ea-8a89903bfd2e",
   "metadata": {},
   "outputs": [],
   "source": [
    "summary"
   ]
  },
  {
   "cell_type": "code",
   "execution_count": null,
   "id": "b2c7bd88-cad3-40a5-97c0-98ce501e2b6c",
   "metadata": {},
   "outputs": [],
   "source": [
    "type(figs)"
   ]
  },
  {
   "cell_type": "code",
   "execution_count": null,
   "id": "dd088898-5fda-41ab-bc6f-9de6f45cd9bb",
   "metadata": {},
   "outputs": [],
   "source": []
  }
 ],
 "metadata": {
  "kernelspec": {
   "display_name": "Python-QSPRpred",
   "language": "python",
   "name": "python-qsprpred"
  },
  "language_info": {
   "codemirror_mode": {
    "name": "ipython",
    "version": 3
   },
   "file_extension": ".py",
   "mimetype": "text/x-python",
   "name": "python",
   "nbconvert_exporter": "python",
   "pygments_lexer": "ipython3",
   "version": "3.10.11"
  }
 },
 "nbformat": 4,
 "nbformat_minor": 5
}
