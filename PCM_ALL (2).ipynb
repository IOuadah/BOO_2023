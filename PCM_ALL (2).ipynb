{
 "cells": [
  {
   "cell_type": "code",
   "execution_count": null,
   "id": "2b1101e7-be13-46ff-baaf-2bba8dca7893",
   "metadata": {},
   "outputs": [],
   "source": [
    "import prodec\n",
    "from pcm_dataset import AR_PCM_both\n",
    "from qsprpred.data.utils.datasplitters import randomsplit, temporalsplit, scaffoldsplit\n",
    "from qsprpred.extra.data.utils.datasplitters import LeaveTargetsOut, StratifiedPerTarget, TemporalPerTarget\n",
    "from qsprpred.data.utils.featurefilters import highCorrelationFilter, lowVarianceFilter\n",
    "from qsprpred.data.utils.descriptorcalculator import MoleculeDescriptorsCalculator\n",
    "from qsprpred.extra.data.utils.descriptorcalculator import ProteinDescriptorCalculator\n",
    "from qsprpred.data.utils.descriptorsets import FingerprintSet\n",
    "from qsprpred.extra.data.utils.descriptorsets import ProDecDescriptorSet\n",
    "from qsprpred.extra.data.utils.descriptor_utils.msa_calculator import ClustalMSA\n",
    "from qsprpred.extra.data.data import PCMDataset\n",
    "from qsprpred.models.tasks import TargetTasks\n",
    "\n",
    "from sklearn.ensemble import RandomForestClassifier\n",
    "from qsprpred.extra.models.pcm import QSPRsklearnPCM\n",
    "from qsprpred.plotting.classification import ROCPlot, MetricsPlot\n",
    "from qsprpred.models.interfaces import QSPRModel\n",
    "from qsprpred.models.hyperparam_optimization import OptunaOptimization\n"
   ]
  },
  {
   "cell_type": "markdown",
   "id": "c5413ae9-a16d-416b-954b-92e458497660",
   "metadata": {
    "tags": []
   },
   "source": [
    "## Fingerprints and descriptors"
   ]
  },
  {
   "cell_type": "raw",
   "id": "0b30ff1f-95bd-4ed1-8541-8d5653481687",
   "metadata": {},
   "source": [
    "['ADFQ', 'BLOSUM', 'c-scales', 'CBFQ', 'CDFQ', 'Combined descriptors', 'Contact energies', 'CUFQ', 'DPPS', 'E-scale', 'FASGAI', 'G-scales', 'GH-scale', 'GRID tscore', 'HESH', 'HPI', 'HSEHPCSV', 'Independent descriptors', 'ISA-ECI', 'Kidera', 'MS-WHIM', 'P-scale', 'PhysChem', 'ProtFP hash', 'ProtFP PCA', 'PSM', 'QCP', 'Raychaudhury', 'Sneath', 'SSIA AM1', 'SSIA DFT', 'SSIA HF', 'SSIA PM3', 'STscale', 'SVEEVA', 'SVGER', 'SVHEHS', 'SVMW', 'SVRDF', 'SVRG', 'SVWG', 'SZOTT', 'Tscale', 'V-scale', 'VARIMAX', 'VHSE', 'VHSEH', 'VSGETAWAY', 'VSTPV', 'VSTV', 'VSW', 'VTSA', 'Zscale binary', 'Zscale Hellberg', 'Zscale Jonsson', 'Zscale Sandberg', 'Zscale Sjöström', 'Zscale van Westen']"
   ]
  },
  {
   "cell_type": "code",
   "execution_count": null,
   "id": "749cde3e-2cf4-4716-b87d-39ba510cd72a",
   "metadata": {},
   "outputs": [],
   "source": [
    "from qsprpred.data.utils.descriptorsets import rdkit_descs\n",
    "\n",
    "\n",
    "calc_prot_Zscale = ProteinDescriptorCalculator(\n",
    "    descsets=[ProDecDescriptorSet(sets=[\"Zscale Hellberg\"])],\n",
    "    msa_provider=ClustalMSA(out_dir=\"data\")\n",
    ")\n",
    "\n",
    "\n",
    "# # zscale binned\n",
    "# calc_prot_ZscaleBinned = ProteinDescriptorCalculator(\n",
    "#     descsets=[ProDecDescriptorSet(sets=[\"Zscale binary\"])],\n",
    "#     msa_provider=ClustalMSA(out_dir=\"data\")\n",
    "# )\n",
    "\n",
    "# #zscale binned with protfp pca\n",
    "# calc_prot_ZscaleBinned_protFPpca = ProteinDescriptorCalculator(\n",
    "#     descsets=[ProDecDescriptorSet(sets=[\"Zscale binary\", 'ProtFP PCA'])],\n",
    "#     msa_provider=ClustalMSA(out_dir=\"data\")\n",
    "# )\n",
    "\n",
    "# # zscale pc 5 \n",
    "# calc_prot_ZscalePC5 = ProteinDescriptorCalculator(\n",
    "#     descsets=[ProDecDescriptorSet(sets=[\"Zscale Sandberg\"])],\n",
    "#     msa_provider=ClustalMSA(out_dir=\"data\")\n",
    "# )\n",
    "\n",
    "# zscal 3 and prtofp feature (hash)\n",
    "calc_prot_ZscalePC3_protFPfeature = ProteinDescriptorCalculator(\n",
    "    descsets=[ProDecDescriptorSet(sets=[\"Zscale van Westen\", 'ProtFP hash'])],\n",
    "    msa_provider=ClustalMSA(out_dir=\"data\")\n",
    ")\n",
    "\n",
    "\n",
    "# MS-WHIM\n",
    "calc_prot_MS_WHIM = ProteinDescriptorCalculator(\n",
    "    descsets=[ProDecDescriptorSet(sets=[\"MS-WHIM\"])],\n",
    "    msa_provider=ClustalMSA(out_dir=\"data\")\n",
    ")\n",
    "\n",
    "# Molecular fingerprints\n",
    "calc_mol_MFP = MoleculeDescriptorsCalculator(descsets = [FingerprintSet(fingerprint_type=\"MorganFP\", radius=3, nBits=2048)])\n",
    "calc_mol_Rdkit = MoleculeDescriptorsCalculator(descsets = [rdkit_descs()])\n",
    "calc_mol_MFP_Rdkit = MoleculeDescriptorsCalculator(descsets = [FingerprintSet(fingerprint_type=\"MorganFP\", radius=3, nBits=2048), rdkit_descs()])\n",
    "\n",
    "\n",
    "# calc_mol_CDK = MoleculeDescriptorsCalculator(descsets = [FingerprintSet(fingerprint_type=\"CDKFP\")])\n",
    "# calc_mol_CDKExtendedFP = MoleculeDescriptorsCalculator(descsets = [FingerprintSet(fingerprint_type=\"CDKExtendedFP\")])\n",
    "# calc_mol_CDKEStateFP = MoleculeDescriptorsCalculator(descsets = [FingerprintSet(fingerprint_type=\"CDKEStateFP\")])\n",
    "# calc_mol_CDKGraphOnlyFP = MoleculeDescriptorsCalculator(descsets = [FingerprintSet(fingerprint_type=\"CDKGraphOnlyFP\")])\n",
    "# calc_mol_CDKMACCSFP = MoleculeDescriptorsCalculator(descsets = [FingerprintSet(fingerprint_type=\"CDKMACCSFP\")])\n",
    "# calc_mol_CDKPubchemFP = MoleculeDescriptorsCalculator(descsets = [FingerprintSet(fingerprint_type=\"CDKPubchemFP\")])\n",
    "# calc_mol_CDKSubstructureFP = MoleculeDescriptorsCalculator(descsets = [FingerprintSet(fingerprint_type=\"CDKSubstructureFP\")])\n",
    "# calc_mol_CDKKlekotaRothFP = MoleculeDescriptorsCalculator(descsets = [FingerprintSet(fingerprint_type=\"CDKKlekotaRothFP\")])\n",
    "# calc_mol_CDKAtomPairs2DFP = MoleculeDescriptorsCalculator(descsets = [FingerprintSet(fingerprint_type=\"CDKAtomPairs2DFP\")])\n",
    "# Molecular Descriptors\n",
    "# calc_mol_Count = MoleculeDescriptorsCalculator(descsets = [PaDEL_calc(['nAtom'])])\n",
    "\n"
   ]
  },
  {
   "cell_type": "markdown",
   "id": "2d15855b-fc80-4c9e-bfd4-8a0f4c473450",
   "metadata": {
    "tags": []
   },
   "source": [
    "# Data prep"
   ]
  },
  {
   "cell_type": "markdown",
   "id": "bf527bf9-b2db-4c34-b5e3-d7c5365b86f6",
   "metadata": {
    "tags": []
   },
   "source": [
    "## activity == [\"Ki\", \"IC50\"]"
   ]
  },
  {
   "cell_type": "code",
   "execution_count": null,
   "id": "ae24c839-0fdb-427f-b0d6-d80fd3fab7be",
   "metadata": {
    "tags": []
   },
   "outputs": [],
   "source": [
    "ds = AR_PCM_both([\"Ki\", \"IC50\"], \"AR_LIGANDS_Ki_IC50\")\n",
    "print(\"protein column: \", ds.proteincol)\n",
    "print(\"protein sequence provider: \", ds.proteinseqprovider)\n",
    "print(\"Size: \", len(ds))\n",
    "print(\"Target properties: \", ds.targetProperties)\n",
    "ds.nJobs = 4\n",
    "ds.getDF()"
   ]
  },
  {
   "cell_type": "code",
   "execution_count": null,
   "id": "12e354e2-6083-4f04-928f-663159424c9f",
   "metadata": {},
   "outputs": [],
   "source": [
    "ds.prepareDataset(\n",
    "    split=StratifiedPerTarget(splitter=randomsplit(0.2)),\n",
    "    feature_calculators=[calc_prot_Zscale, calc_mol_MFP]\n",
    ")"
   ]
  },
  {
   "cell_type": "code",
   "execution_count": null,
   "id": "16be1a1f-6723-4939-b600-518c469ee3dc",
   "metadata": {},
   "outputs": [],
   "source": [
    "ds.getFeatures()[0] # training set feature matrix"
   ]
  },
  {
   "cell_type": "code",
   "execution_count": null,
   "id": "14794100-d4b5-4c5b-9dec-b26ab2ef33c1",
   "metadata": {},
   "outputs": [],
   "source": [
    "ds.getFeatures()[1] # test set feature matrix"
   ]
  },
  {
   "cell_type": "markdown",
   "id": "da34b995-20f6-4386-9faa-2547b14785b3",
   "metadata": {
    "tags": []
   },
   "source": [
    "## activity == [\"Ki\", \"IC50\", \"EC50\", \"Kd\"]"
   ]
  },
  {
   "cell_type": "code",
   "execution_count": null,
   "id": "d4456b27-fc44-4700-b4bc-d31210f325ed",
   "metadata": {},
   "outputs": [],
   "source": [
    "ds2 = AR_PCM_both([\"Ki\", \"IC50\", \"EC50\", \"Kd\"], \"AR_LIGANDS_Ki_IC50_EC50_Kd\")\n",
    "print(\"protein column: \", ds2.proteincol)\n",
    "print(\"protein sequence provider: \", ds2.proteinseqprovider)\n",
    "print(\"Size: \", len(ds2))\n",
    "print(\"Target properties: \", ds2.targetProperties)\n",
    "ds2.nJobs = 4\n",
    "ds2.getDF()"
   ]
  },
  {
   "cell_type": "code",
   "execution_count": null,
   "id": "81e020f0-f795-4c59-99ef-4d61fe0c6737",
   "metadata": {},
   "outputs": [],
   "source": [
    "ds2.prepareDataset(\n",
    "    split=StratifiedPerTarget(splitter=randomsplit(0.2)), \n",
    "    feature_calculators=[calc_prot_Zscale, calc_mol_MFP]\n",
    ")"
   ]
  },
  {
   "cell_type": "code",
   "execution_count": null,
   "id": "5d10a4b3-279c-43bb-a2cb-0a70338415f1",
   "metadata": {},
   "outputs": [],
   "source": [
    "ds2.getFeatures()[0] # training set feature matrix"
   ]
  },
  {
   "cell_type": "code",
   "execution_count": null,
   "id": "c69deea0-d7df-4c73-9096-96f7625b8780",
   "metadata": {},
   "outputs": [],
   "source": [
    "ds2.getFeatures()[1] # test set feature matrix"
   ]
  },
  {
   "cell_type": "code",
   "execution_count": null,
   "id": "feb1b21d-e6e5-4c95-bc8d-3d525f6fb8b0",
   "metadata": {},
   "outputs": [],
   "source": [
    "ds.save()\n",
    "ds2.save()"
   ]
  },
  {
   "cell_type": "code",
   "execution_count": null,
   "id": "5143bbea-706d-404f-b302-c296930ea81d",
   "metadata": {},
   "outputs": [],
   "source": [
    "ds.name\n",
    "ds.storeDir"
   ]
  },
  {
   "cell_type": "markdown",
   "id": "5054d95d-27c6-4677-9b0d-a7134b167371",
   "metadata": {
    "tags": []
   },
   "source": [
    "## Different descriptors and fingerprints"
   ]
  },
  {
   "cell_type": "code",
   "execution_count": null,
   "id": "4a4b0e99-1ee6-484c-93c8-05ba5ca181a9",
   "metadata": {
    "tags": []
   },
   "outputs": [],
   "source": [
    "# rd kit descriptors  => pharmacore\n",
    "\n",
    "# AR_PCM_both([\"Ki\", \"IC50\"], \"AR_LIGANDS_Counts\")\n",
    "\n",
    "# # zscal 3 and prtofp feature (hash)\n",
    "ds_ZPC3_protFPfeature_MorganFP = AR_PCM_both([\"Ki\", \"IC50\"], \"AR_LIGANDS_ZPC3_protFPfeature_MorganFP\", data_dir= 'data/LeaveOutSplit_4')\n",
    "ds_ZPC3_protFPfeature_Rdkit = AR_PCM_both([\"Ki\", \"IC50\"], \"AR_LIGANDS_ZPC3_protFPfeature_Rdkit\", data_dir= 'data/LeaveOutSplit_4')\n",
    "ds_ZPC3_protFPfeature_MorganFP_Rdkit = AR_PCM_both([\"Ki\", \"IC50\"], \"AR_LIGANDS_ZPC3_protFPfeature_MorganFP_Rdkit\", data_dir= 'data/LeaveOutSplit_4')\n",
    "\n",
    "# # MS-WHIM\n",
    "ds_MS_WHIM_MorganFP = AR_PCM_both([\"Ki\", \"IC50\"], \"AR_LIGANDS_MS_WHIM_MorganFP\", data_dir= 'data/LeaveOutSplit_4')\n",
    "ds_MS_WHIM_Rdkit = AR_PCM_both([\"Ki\", \"IC50\"], \"AR_LIGANDS_MS_WHIM_Rdkit\", data_dir= 'data/LeaveOutSplit_4')\n",
    "ds_MS_WHIM_MorganFP_Rdkit = AR_PCM_both([\"Ki\", \"IC50\"], \"AR_LIGANDS_MS_WHIM_MorganFP_Rdkit\", data_dir= 'data/LeaveOutSplit_4')\n",
    "\n",
    "\n",
    "## not needed anymore:\n",
    "# zscale binned\n",
    "# ds_ZBinned_MorganFP = AR_PCM_both([\"Ki\", \"IC50\"], \"AR_LIGANDS_ZBinned_MorganFP\")\n",
    "# ds_ZBinned_Rdkit = AR_PCM_both([\"Ki\", \"IC50\"], \"AR_LIGANDS_ZBinned_Rdkit\")\n",
    "# ds_ZBinned_MorganFP_Rdkit = AR_PCM_both([\"Ki\", \"IC50\"], \"AR_LIGANDS_ZBinned_MorganFP_Rdkit\")\n",
    "\n",
    "#zscale binned with protfp pca ## \n",
    "# ds_ZBinned_protFPpca_MorganFP = AR_PCM_both([\"Ki\", \"IC50\"], \"AR_LIGANDS_ZBinned_protFPpca_MorganFP\")\n",
    "# ds_ZBinned_protFPpca_Rdkit = AR_PCM_both([\"Ki\", \"IC50\"], \"AR_LIGANDS_ZBinned_protFPpca_Rdkit\")\n",
    "# ds_ZBinned_protFPpca_MorganFP_Rdkit = AR_PCM_both([\"Ki\", \"IC50\"], \"AR_LIGANDS_ZBinned_protFPpca_MorganFP_Rdkit\")\n",
    "\n",
    "# zscale pc 5\n",
    "# ds_ZPC5_MorganFP = AR_PCM_both([\"Ki\", \"IC50\"], \"AR_LIGANDS_ZPC5_MorganFP\")\n",
    "# ds_ZPC5_Rdkit = AR_PCM_both([\"Ki\", \"IC50\"], \"AR_LIGANDS_ZPC5_Rdkit\")\n",
    "# ds_ZPC5_MorganFP_Rdkit = AR_PCM_both([\"Ki\", \"IC50\"], \"AR_LIGANDS_ZPC5_MorganFP_Rdkit\")\n",
    "\n",
    "# ds_CDK = AR_PCM_both([\"Ki\", \"IC50\"], \"AR_LIGANDS_CDK\")\n",
    "# ds_CDKExtendedFP = AR_PCM_both([\"Ki\", \"IC50\"], \"AR_LIGANDS_CDKExtendedFP\")\n",
    "# ds_CDKEStateFP = AR_PCM_both([\"Ki\", \"IC50\"], \"AR_LIGANDS_CDKEStateFP\")\n",
    "# ds_CDKGraphOnlyFP = AR_PCM_both([\"Ki\", \"IC50\"], \"AR_LIGANDS_CDKGraphOnlyFP\")\n",
    "# ds_CDKMACCSFP = AR_PCM_both([\"Ki\", \"IC50\"], \"AR_LIGANDS_CDKMACCSFP\")\n",
    "# ds_CDKPubchemFP = AR_PCM_both([\"Ki\", \"IC50\"], \"AR_LIGANDS_CDKPubchemFP\")\n",
    "# ds_CDKSubstructureFP = AR_PCM_both([\"Ki\", \"IC50\"], \"AR_LIGANDS_CDKSubstructureFP\")\n",
    "# ds_CDKKlekotaRothFP = AR_PCM_both([\"Ki\", \"IC50\"], \"AR_LIGANDS_CDKKlekotaRothFP\") ## doesnt work\n",
    "# ds_CDKAtomPairs2DFP = AR_PCM_both([\"Ki\", \"IC50\"], \"AR_LIGANDS_CDKAtomPairs2DFP\")\n",
    "# ds_Counts = AR_PCM_both([\"Ki\", \"IC50\"], \"AR_LIGANDS_Counts\") ## doesnt work\n",
    "\n",
    "\n",
    "# ds_CDK == ds_Counts # should return false\n",
    "# print(ds_CDK.proteinseqprovider)"
   ]
  },
  {
   "cell_type": "code",
   "execution_count": null,
   "id": "1fcfc8bb-d54b-4006-8e0f-eedd3a773bcd",
   "metadata": {},
   "outputs": [],
   "source": [
    "DS_LIST = [ds_ZPC3_protFPfeature_MorganFP, ds_ZPC3_protFPfeature_Rdkit, ds_ZPC3_protFPfeature_MorganFP_Rdkit, ds_MS_WHIM_MorganFP, ds_MS_WHIM_Rdkit, ds_MS_WHIM_MorganFP_Rdkit]\n",
    "for ds in DS_LIST:\n",
    "    ds.save()"
   ]
  },
  {
   "cell_type": "code",
   "execution_count": null,
   "id": "7754024c-cfe0-4523-bf38-1e15e94e6378",
   "metadata": {},
   "outputs": [],
   "source": [
    "ds_ZPC3_protFPfeature_MorganFP.getDF().columns"
   ]
  },
  {
   "cell_type": "code",
   "execution_count": null,
   "id": "9c7b3652-6921-4230-9f02-f31552593858",
   "metadata": {},
   "outputs": [],
   "source": [
    "ds_ZPC3_protFPfeature_MorganFP.getDF()[[\"accession\", \"Year\"]].query('accession == \"P29274\"').sort_values('Year')"
   ]
  },
  {
   "cell_type": "code",
   "execution_count": null,
   "id": "b9cd94a7-a1ab-4115-82f0-72456c065d13",
   "metadata": {},
   "outputs": [],
   "source": [
    "DS_FP_LIST = [[ds_ZPC3_protFPfeature_MorganFP, ds_ZPC3_protFPfeature_Rdkit, ds_ZPC3_protFPfeature_MorganFP_Rdkit],\n",
    "             [ds_MS_WHIM_MorganFP, ds_MS_WHIM_Rdkit, ds_MS_WHIM_MorganFP_Rdkit]]\n",
    "\n",
    "CALC_FP_LIST = [calc_mol_MFP, calc_mol_Rdkit, calc_mol_MFP_Rdkit]\n",
    "\n",
    "PROT_FP_LIST = [calc_prot_ZscalePC3_protFPfeature,\n",
    "                calc_prot_MS_WHIM]\n",
    "\n",
    "\n",
    "# # leave target out split (left out the A2A and A2B, both in human and in rat)\n",
    "# for i, prot_calc in enumerate(PROT_FP_LIST):\n",
    "#     for ds, calc in zip(DS_FP_LIST[i], CALC_FP_LIST):\n",
    "#         ds.nJobs = 4\n",
    "#         ds.prepareDataset(\n",
    "#         split=LeaveTargetsOut([\"P29275\", \"P30542\", \"P30543\", \"P29276\"], ds),\n",
    "#         feature_calculators=[prot_calc, calc],\n",
    "#         feature_fill_value=0,\n",
    "#         recalculate_features = True,\n",
    "#         feature_filters = [highCorrelationFilter(0.9), lowVarianceFilter(0.0)])\n",
    "        \n",
    "#         ds.save()\n",
    "        \n",
    "# # leave target out split (left out the A1 , both in human and in rat)\n",
    "# for i, prot_calc in enumerate(PROT_FP_LIST):\n",
    "#     for ds, calc in zip(DS_FP_LIST[i], CALC_FP_LIST):\n",
    "#         ds.nJobs = 4\n",
    "#         ds.prepareDataset(\n",
    "#         split=LeaveTargetsOut([\"P29274\", \"P25099\"], ds),\n",
    "#         feature_calculators=[prot_calc, calc],\n",
    "#         feature_fill_value=0,\n",
    "#         recalculate_features = True,\n",
    "#         feature_filters = [highCorrelationFilter(0.9), lowVarianceFilter(0.0)])\n",
    "        \n",
    "#         ds.save()\n",
    "\n",
    "# leave target out split (left out the A3 , only in human)\n",
    "# for i, prot_calc in enumerate(PROT_FP_LIST):\n",
    "#     for ds, calc in zip(DS_FP_LIST[i], CALC_FP_LIST):\n",
    "#         ds.nJobs = 4\n",
    "#         ds.prepareDataset(\n",
    "#         split=LeaveTargetsOut([\"P0DMS8\"], ds),\n",
    "#         feature_calculators=[prot_calc, calc],\n",
    "#         feature_fill_value=0,\n",
    "#         recalculate_features = True,\n",
    "#         feature_filters = [highCorrelationFilter(0.9), lowVarianceFilter(0.0)])\n",
    "        \n",
    "#         ds.save()\n",
    "        \n",
    "# temporal per target split\n",
    "for i, prot_calc in enumerate(PROT_FP_LIST):\n",
    "    for ds, calc in zip(DS_FP_LIST[i], CALC_FP_LIST):\n",
    "        ds.nJobs = 4\n",
    "        ds.prepareDataset(\n",
    "        split=TemporalPerTarget(\"Year\", {\"P29274\": 2014, \"P29275\": 2014, \"P30542\":2015, \"P0DMS8\": 2016,\n",
    "                                         \"P25099\": 2012, \"P30543\": 2012, \"P29276\": 2011, \"P28647\": 2012}),\n",
    "        feature_calculators=[prot_calc, calc],\n",
    "        feature_fill_value=0,\n",
    "        recalculate_features = True,\n",
    "        feature_filters = [highCorrelationFilter(0.9), lowVarianceFilter(0.0)])\n",
    "        \n",
    "        ds.save()\n",
    "        \n",
    "# random split\n",
    "# for i, prot_calc in enumerate(PROT_FP_LIST):\n",
    "#     for ds, calc in zip(DS_FP_LIST[i], CALC_FP_LIST):\n",
    "#         ds.nJobs = 4\n",
    "#         ds.prepareDataset(\n",
    "#         split=StratifiedPerTarget(splitter=randomsplit(0.2)),\n",
    "#         feature_calculators=[prot_calc, calc],\n",
    "#         feature_fill_value=0,\n",
    "#         recalculate_features = True,\n",
    "#         feature_filters = [highCorrelationFilter(0.9), lowVarianceFilter(0.0)])\n",
    "        \n",
    "#         ds.save()"
   ]
  },
  {
   "cell_type": "code",
   "execution_count": null,
   "id": "8a2619dd-15f4-4e8f-9685-c089a1a1cc2c",
   "metadata": {},
   "outputs": [],
   "source": [
    "ds_ZPC3_protFPfeature_MorganFP.getFeatures()[0]"
   ]
  },
  {
   "cell_type": "markdown",
   "id": "8d662d3a-1c77-43e5-a2d9-ef3a7516e65a",
   "metadata": {
    "tags": []
   },
   "source": [
    "# Loading in the datasets"
   ]
  },
  {
   "cell_type": "code",
   "execution_count": null,
   "id": "e734e520-f18b-4d9b-bc5e-710f15810d63",
   "metadata": {},
   "outputs": [],
   "source": [
    "tp = [\n",
    "            {\n",
    "                \"name\": \"pchembl_value_Median\",\n",
    "                \"task\": TargetTasks.SINGLECLASS,\n",
    "                \"th\": [6.5]\n",
    "            }\n",
    "        ]"
   ]
  },
  {
   "cell_type": "code",
   "execution_count": null,
   "id": "a702ce4c-7531-4d22-aea4-8cfe1d296167",
   "metadata": {},
   "outputs": [],
   "source": [
    "ds = PCMDataset(name=\"AR_LIGANDS_Ki_IC50\", store_dir=\"data\", proteincol = \"accession\", target_props = tp)\n",
    "ds2 = PCMDataset(name=\"AR_LIGANDS_Ki_IC50_EC50_Kd\", store_dir=\"data\", proteincol = \"accession\", target_props = tp)\n",
    "\n",
    "# ds_CDK = PCMDataset(name=\"AR_LIGANDS_CDK\", store_dir=\"data\", proteincol = \"accession\", target_props = tp)\n",
    "# ds_CDKExtendedFP = PCMDataset(name=\"AR_LIGANDS_CDKExtendedFP\", store_dir=\"data\", proteincol = \"accession\", target_props = tp)\n",
    "# ds_CDKEStateFP = PCMDataset(name=\"AR_LIGANDS_CDKEStateFP\", store_dir=\"data\", proteincol = \"accession\", target_props = tp)\n",
    "# ds_CDKGraphOnlyFP = PCMDataset(name=\"AR_LIGANDS_CDKGraphOnlyFP\", store_dir=\"data\", proteincol = \"accession\", target_props = tp)\n",
    "# ds_CDKMACCSFP = PCMDataset(name=\"AR_LIGANDS_CDKMACCSFP\", store_dir=\"data\", proteincol = \"accession\", target_props = tp)\n",
    "# ds_CDKPubchemFP = PCMDataset(name=\"AR_LIGANDS_CDKPubchemFP\", store_dir=\"data\", proteincol = \"accession\", target_props = tp)\n",
    "# ds_CDKSubstructureFP = PCMDataset(name=\"AR_LIGANDS_CDKSubstructureFP\", store_dir=\"data\", proteincol = \"accession\", target_props = tp)\n",
    "\n",
    "# ds_CDKKlekotaRothFP = PCMDataset(name=\"AR_LIGANDS_CDKKlekotaRothFP\", store_dir=\"data\", proteincol = \"accession\", target_props = tp) ## takes forever and the dataset still wasnt prepped\n",
    "# ds_CDKAtomPairs2DFP = PCMDataset(name=\"AR_LIGANDS_CDKAtomPairs2DFP\", store_dir=\"data\", proteincol = \"accession\", target_props = tp)\n",
    "# ds_Counts = PCMDataset(name=\"AR_LIGANDS_Counts\", store_dir=\"data\", proteincol = \"accession\", target_props = tp) ## takes forever and the dataset still wasnt prepped\n"
   ]
  },
  {
   "cell_type": "markdown",
   "id": "961f3d25-273d-41a7-a213-491f3c113cfb",
   "metadata": {
    "tags": []
   },
   "source": [
    "## Z-scale with 3 PCs and protFP feature (hashed)"
   ]
  },
  {
   "cell_type": "markdown",
   "id": "6c39efb1-d036-483d-ba92-cf80df5dd352",
   "metadata": {},
   "source": [
    "###### datasets"
   ]
  },
  {
   "cell_type": "code",
   "execution_count": null,
   "id": "6f28d88a-01b7-42d5-9df7-61ebb6d1ba48",
   "metadata": {},
   "outputs": [],
   "source": [
    "# temporalsplit\n",
    "ds_ZPC3_protFPfeature_MorganFP = PCMDataset(name=\"AR_LIGANDS_ZPC3_protFPfeature_MorganFP\", store_dir=\"data/LeaveOutSplit_4\", proteincol = \"accession\", target_props = tp)\n",
    "ds_ZPC3_protFPfeature_Rdkit = PCMDataset(name=\"AR_LIGANDS_ZPC3_protFPfeature_Rdkit\", store_dir=\"data/LeaveOutSplit_4\", proteincol = \"accession\", target_props = tp)\n",
    "ds_ZPC3_protFPfeature_MorganFP_Rdkit = PCMDataset(name=\"AR_LIGANDS_ZPC3_protFPfeature_MorganFP_Rdkit\", store_dir=\"data/LeaveOutSplit_4\", proteincol = \"accession\", target_props = tp)\n",
    "\n",
    "\n",
    "# leave target out split (left out the A2A and A2B, both in human and in rat)\n",
    "# ds_ZPC3_protFPfeature_MorganFP = PCMDataset(name=\"AR_LIGANDS_ZPC3_protFPfeature_MorganFP\", store_dir=\"data/LeaveOutSplit_1\", proteincol = \"accession\", target_props = tp)\n",
    "# ds_ZPC3_protFPfeature_Rdkit = PCMDataset(name=\"AR_LIGANDS_ZPC3_protFPfeature_Rdkit\", store_dir=\"data/LeaveOutSplit_1\", proteincol = \"accession\", target_props = tp)\n",
    "# ds_ZPC3_protFPfeature_MorganFP_Rdkit = PCMDataset(name=\"AR_LIGANDS_ZPC3_protFPfeature_MorganFP_Rdkit\", store_dir=\"data/LeaveOutSplit_1\", proteincol = \"accession\", target_props = tp)\n",
    "\n",
    "# leave target out split (left out the A1 , both in human and in rat)\n",
    "# ds_ZPC3_protFPfeature_MorganFP = PCMDataset(name=\"AR_LIGANDS_ZPC3_protFPfeature_MorganFP\", store_dir=\"data/LeaveOutSplit_2\", proteincol = \"accession\", target_props = tp)\n",
    "# ds_ZPC3_protFPfeature_Rdkit = PCMDataset(name=\"AR_LIGANDS_ZPC3_protFPfeature_Rdkit\", store_dir=\"data/LeaveOutSplit_2\", proteincol = \"accession\", target_props = tp)\n",
    "# ds_ZPC3_protFPfeature_MorganFP_Rdkit = PCMDataset(name=\"AR_LIGANDS_ZPC3_protFPfeature_MorganFP_Rdkit\", store_dir=\"data/LeaveOutSplit_2\", proteincol = \"accession\", target_props = tp)\n",
    "\n",
    "# leave target out split (left out the A3, only in human)\n",
    "# ds_ZPC3_protFPfeature_MorganFP = PCMDataset(name=\"AR_LIGANDS_ZPC3_protFPfeature_MorganFP\", store_dir=\"data/LeaveOutSplit_3\", proteincol = \"accession\", target_props = tp)\n",
    "# ds_ZPC3_protFPfeature_Rdkit = PCMDataset(name=\"AR_LIGANDS_ZPC3_protFPfeature_Rdkit\", store_dir=\"data/LeaveOutSplit_3\", proteincol = \"accession\", target_props = tp)\n",
    "# ds_ZPC3_protFPfeature_MorganFP_Rdkit = PCMDataset(name=\"AR_LIGANDS_ZPC3_protFPfeature_MorganFP_Rdkit\", store_dir=\"data/LeaveOutSplit_3\", proteincol = \"accession\", target_props = tp)\n",
    "\n",
    "# random split\n",
    "# ds_ZPC3_protFPfeature_MorganFP = PCMDataset(name=\"AR_LIGANDS_ZPC3_protFPfeature_MorganFP\", store_dir=\"data\", proteincol = \"accession\", target_props = tp)\n",
    "# ds_ZPC3_protFPfeature_Rdkit = PCMDataset(name=\"AR_LIGANDS_ZPC3_protFPfeature_Rdkit\", store_dir=\"data\", proteincol = \"accession\", target_props = tp)\n",
    "# ds_ZPC3_protFPfeature_MorganFP_Rdkit = PCMDataset(name=\"AR_LIGANDS_ZPC3_protFPfeature_MorganFP_Rdkit\", store_dir=\"data\", proteincol = \"accession\", target_props = tp)\n",
    "\n",
    "DS_LIST = [ds_ZPC3_protFPfeature_MorganFP, ds_ZPC3_protFPfeature_Rdkit, ds_ZPC3_protFPfeature_MorganFP_Rdkit]\n",
    "for ds in DS_LIST:\n",
    "    print(ds.name, len(ds))"
   ]
  },
  {
   "cell_type": "markdown",
   "id": "a243a949-bcb4-4e1f-9242-e2151331cf66",
   "metadata": {},
   "source": [
    "###### Models"
   ]
  },
  {
   "cell_type": "code",
   "execution_count": null,
   "id": "c9b38cff-709f-4f79-9d98-a3b8206b8ebb",
   "metadata": {},
   "outputs": [],
   "source": [
    "# leave target out split (left out the A2A and A2B, both in human and in rat)\n",
    "# fitted_models = [QSPRModel.fromFile('./qspr/models/LeaveTargetSplit_1/qspr/models/ZPC3_protFPfeature_MorganFP_RF_TargetSplit1/ZPC3_protFPfeature_MorganFP_RF_TargetSplit1_meta.json'),\n",
    "#                  QSPRModel.fromFile('./qspr/models/LeaveTargetSplit_1/qspr/models/ZPC3_protFPfeature_Rdkit_RF_TargetSplit1/ZPC3_protFPfeature_Rdkit_RF_TargetSplit1_meta.json'),\n",
    "#                  QSPRModel.fromFile('./qspr/models/LeaveTargetSplit_1/qspr/models/ZPC3_protFPfeature_MorganFP_Rdkit_RF_TargetSplit1/ZPC3_protFPfeature_MorganFP_Rdkit_RF_TargetSplit1_meta.json')]\n",
    "\n",
    "# # leave target out split (left out the A1 and A3, both in human and in rat)\n",
    "# fitted_models = [QSPRModel.fromFile('./qspr/models/LeaveTargetSplit_2/qspr/models/ZPC3_protFPfeature_MorganFP_RF_TargetSplit2/ZPC3_protFPfeature_MorganFP_RF_TargetSplit2_meta.json'),\n",
    "#                  QSPRModel.fromFile('./qspr/models/LeaveTargetSplit_2/qspr/models/ZPC3_protFPfeature_Rdkit_RF_TargetSplit2/ZPC3_protFPfeature_Rdkit_RF_TargetSplit2_meta.json'),\n",
    "#                  QSPRModel.fromFile('./qspr/models/LeaveTargetSplit_2/qspr/models/ZPC3_protFPfeature_MorganFP_Rdkit_RF_TargetSplit2/ZPC3_protFPfeature_MorganFP_Rdkit_RF_TargetSplit2_meta.json')]\n",
    "\n",
    "# leave target out split (left out the A3, only in human)\n",
    "# fitted_models = [QSPRModel.fromFile('./qspr/models/LeaveTargetSplit_3/qspr/models/ZPC3_protFPfeature_MorganFP_RF_TargetSplit3/ZPC3_protFPfeature_MorganFP_RF_TargetSplit3_meta.json'),\n",
    "#                  QSPRModel.fromFile('./qspr/models/LeaveTargetSplit_3/qspr/models/ZPC3_protFPfeature_Rdkit_RF_TargetSplit3/ZPC3_protFPfeature_Rdkit_RF_TargetSplit3_meta.json'),\n",
    "#                  QSPRModel.fromFile('./qspr/models/LeaveTargetSplit_3/qspr/models/ZPC3_protFPfeature_MorganFP_Rdkit_RF_TargetSplit3/ZPC3_protFPfeature_MorganFP_Rdkit_RF_TargetSplit3_meta.json')]\n",
    "\n",
    "# split 4\n",
    "fitted_models = [QSPRModel.fromFile('./qspr/models/LeaveTargetSplit_4/qspr/models/ZPC3_protFPfeature_MorganFP_RF_TargetSplit4/ZPC3_protFPfeature_MorganFP_RF_TargetSplit4_meta.json'),\n",
    "                 QSPRModel.fromFile('./qspr/models/LeaveTargetSplit_4/qspr/models/ZPC3_protFPfeature_Rdkit_RF_TargetSplit4/ZPC3_protFPfeature_Rdkit_RF_TargetSplit4_meta.json'),\n",
    "                 QSPRModel.fromFile('./qspr/models/LeaveTargetSplit_4/qspr/models/ZPC3_protFPfeature_MorganFP_Rdkit_RF_TargetSplit4/ZPC3_protFPfeature_MorganFP_Rdkit_RF_TargetSplit4_meta.json')]\n",
    "\n",
    "\n",
    "# random split\n",
    "# fitted_models = [QSPRModel.fromFile('./qspr/models/ZPC3_protFPfeature_MorganFP_RF/ZPC3_protFPfeature_MorganFP_RF_meta.json'),\n",
    "#                  QSPRModel.fromFile('./qspr/models/ZPC3_protFPfeature_Rdkit_RF/ZPC3_protFPfeature_Rdkit_RF_meta.json'),\n",
    "#                  QSPRModel.fromFile('./qspr/models/ZPC3_protFPfeature_MorganFP_Rdkit_RF/ZPC3_protFPfeature_MorganFP_Rdkit_RF_meta.json')]"
   ]
  },
  {
   "cell_type": "markdown",
   "id": "98da0ffe-7845-4260-b5f6-13b4c8397a82",
   "metadata": {
    "tags": []
   },
   "source": [
    "## MS-WHIM"
   ]
  },
  {
   "cell_type": "markdown",
   "id": "ae14ed6e-2882-4841-987a-45bcf97d220c",
   "metadata": {},
   "source": [
    "###### datasets"
   ]
  },
  {
   "cell_type": "code",
   "execution_count": null,
   "id": "56222419-891f-4011-ba69-a2a0bf0afad5",
   "metadata": {},
   "outputs": [],
   "source": [
    "# temporal split\n",
    "ds_MS_WHIM_MorganFP = PCMDataset(name=\"AR_LIGANDS_MS_WHIM_MorganFP\", store_dir=\"data/LeaveOutSplit_4\", proteincol = \"accession\", target_props = tp)\n",
    "ds_MS_WHIM_Rdkit = PCMDataset(name=\"AR_LIGANDS_MS_WHIM_Rdkit\", store_dir=\"data/LeaveOutSplit_4\", proteincol = \"accession\", target_props = tp)\n",
    "ds_MS_WHIM_MorganFP_Rdkit = PCMDataset(name=\"AR_LIGANDS_MS_WHIM_MorganFP_Rdkit\", store_dir=\"data/LeaveOutSplit_4\", proteincol = \"accession\", target_props = tp)\n",
    "\n",
    "\n",
    "\n",
    "# leave target out split (left out the A2A and A2B, both in human and in rat)\n",
    "# ds_MS_WHIM_MorganFP = PCMDataset(name=\"AR_LIGANDS_MS_WHIM_MorganFP\", store_dir=\"data/LeaveOutSplit_1\", proteincol = \"accession\", target_props = tp)\n",
    "# ds_MS_WHIM_Rdkit = PCMDataset(name=\"AR_LIGANDS_MS_WHIM_Rdkit\", store_dir=\"data/LeaveOutSplit_1\", proteincol = \"accession\", target_props = tp)\n",
    "# ds_MS_WHIM_MorganFP_Rdkit = PCMDataset(name=\"AR_LIGANDS_MS_WHIM_MorganFP_Rdkit\", store_dir=\"data/LeaveOutSplit_1\", proteincol = \"accession\", target_props = tp)\n",
    "\n",
    "# # leave target out split (left out the A1 and A3, both in human and in rat)\n",
    "# ds_MS_WHIM_MorganFP = PCMDataset(name=\"AR_LIGANDS_MS_WHIM_MorganFP\", store_dir=\"data/LeaveOutSplit_2\", proteincol = \"accession\", target_props = tp)\n",
    "# ds_MS_WHIM_Rdkit = PCMDataset(name=\"AR_LIGANDS_MS_WHIM_Rdkit\", store_dir=\"data/LeaveOutSplit_2\", proteincol = \"accession\", target_props = tp)\n",
    "# ds_MS_WHIM_MorganFP_Rdkit = PCMDataset(name=\"AR_LIGANDS_MS_WHIM_MorganFP_Rdkit\", store_dir=\"data/LeaveOutSplit_2\", proteincol = \"accession\", target_props = tp)\n",
    "\n",
    "# leave target out split (left out the A3, only in human)\n",
    "# ds_MS_WHIM_MorganFP = PCMDataset(name=\"AR_LIGANDS_MS_WHIM_MorganFP\", store_dir=\"data/LeaveOutSplit_3\", proteincol = \"accession\", target_props = tp)\n",
    "# ds_MS_WHIM_Rdkit = PCMDataset(name=\"AR_LIGANDS_MS_WHIM_Rdkit\", store_dir=\"data/LeaveOutSplit_3\", proteincol = \"accession\", target_props = tp)\n",
    "# ds_MS_WHIM_MorganFP_Rdkit = PCMDataset(name=\"AR_LIGANDS_MS_WHIM_MorganFP_Rdkit\", store_dir=\"data/LeaveOutSplit_3\", proteincol = \"accession\", target_props = tp)\n",
    "\n",
    "# # random split\n",
    "# ds_MS_WHIM_MorganFP = PCMDataset(name=\"AR_LIGANDS_MS_WHIM_MorganFP\", store_dir=\"data\", proteincol = \"accession\", target_props = tp)\n",
    "# ds_MS_WHIM_Rdkit = PCMDataset(name=\"AR_LIGANDS_MS_WHIM_Rdkit\", store_dir=\"data\", proteincol = \"accession\", target_props = tp)\n",
    "# ds_MS_WHIM_MorganFP_Rdkit = PCMDataset(name=\"AR_LIGANDS_MS_WHIM_MorganFP_Rdkit\", store_dir=\"data\", proteincol = \"accession\", target_props = tp)\n",
    "\n",
    "DS_LIST = [ds_MS_WHIM_MorganFP, ds_MS_WHIM_Rdkit, ds_MS_WHIM_MorganFP_Rdkit]\n",
    "\n",
    "for ds in DS_LIST:\n",
    "    print(ds.name, len(ds))"
   ]
  },
  {
   "cell_type": "markdown",
   "id": "35f86617-fff6-4d4f-a734-ba1006b8fa4c",
   "metadata": {},
   "source": [
    "###### Models"
   ]
  },
  {
   "cell_type": "code",
   "execution_count": null,
   "id": "3ba589e3-5485-431c-a27e-d430e8eb788f",
   "metadata": {},
   "outputs": [],
   "source": [
    "# leave target out split (left out the A2A and A2B, both in human and in rat)\n",
    "# fitted_models = [QSPRModel.fromFile('./qspr/models/LeaveTargetSplit_1/qspr/models/MS_WHIM_MorganFP_RF_TargetSplit1/MS_WHIM_MorganFP_RF_TargetSplit1_meta.json'),\n",
    "#                  QSPRModel.fromFile('./qspr/models/LeaveTargetSplit_1/qspr/models/MS_WHIM_Rdkit_RF_TargetSplit1/MS_WHIM_Rdkit_RF_TargetSplit1_meta.json'),\n",
    "#                  QSPRModel.fromFile('./qspr/models/LeaveTargetSplit_1/qspr/models/MS_WHIM_MorganFP_Rdkit_RF_TargetSplit1/MS_WHIM_MorganFP_Rdkit_RF_TargetSplit1_meta.json')]\n",
    "\n",
    "# # leave target out split (left out the A1 and A3, both in human and in rat)\n",
    "# fitted_models = [QSPRModel.fromFile('./qspr/models/LeaveTargetSplit_2/qspr/models/MS_WHIM_MorganFP_RF_TargetSplit2/MS_WHIM_MorganFP_RF_TargetSplit2_meta.json'),\n",
    "#                  QSPRModel.fromFile('./qspr/models/LeaveTargetSplit_2/qspr/models/MS_WHIM_Rdkit_RF_TargetSplit2/MS_WHIM_Rdkit_RF_TargetSplit2_meta.json'),\n",
    "#                  QSPRModel.fromFile('./qspr/models/LeaveTargetSplit_2/qspr/models/MS_WHIM_MorganFP_Rdkit_RF_TargetSplit2/MS_WHIM_MorganFP_Rdkit_RF_TargetSplit2_meta.json')]\n",
    "\n",
    "# leave target out split (left out the A3, only in human)\n",
    "# fitted_models = [QSPRModel.fromFile('./qspr/models/LeaveTargetSplit_3/qspr/models/MS_WHIM_MorganFP_RF_TargetSplit3/MS_WHIM_MorganFP_RF_TargetSplit3_meta.json'),\n",
    "#                  QSPRModel.fromFile('./qspr/models/LeaveTargetSplit_3/qspr/models/MS_WHIM_Rdkit_RF_TargetSplit3/MS_WHIM_Rdkit_RF_TargetSplit3_meta.json'),\n",
    "#                  QSPRModel.fromFile('./qspr/models/LeaveTargetSplit_3/qspr/models/MS_WHIM_MorganFP_Rdkit_RF_TargetSplit3/MS_WHIM_MorganFP_Rdkit_RF_TargetSplit3_meta.json')]\n",
    "\n",
    "# split 4\n",
    "fitted_models = [QSPRModel.fromFile('./qspr/models/LeaveTargetSplit_4/qspr/models/MS_WHIM_MorganFP_RF_TargetSplit4/MS_WHIM_MorganFP_RF_TargetSplit4_meta.json'),\n",
    "                 QSPRModel.fromFile('./qspr/models/LeaveTargetSplit_4/qspr/models/MS_WHIM_Rdkit_RF_TargetSplit4/MS_WHIM_Rdkit_RF_TargetSplit4_meta.json'),\n",
    "                 QSPRModel.fromFile('./qspr/models/LeaveTargetSplit_4/qspr/models/MS_WHIM_MorganFP_Rdkit_RF_TargetSplit4/MS_WHIM_MorganFP_Rdkit_RF_TargetSplit4_meta.json')]\n",
    "\n",
    "\n",
    "\n",
    "\n",
    "# random split\n",
    "# fitted_models = [QSPRModel.fromFile('./qspr/models/MS_WHIM_MorganFP_RF/MS_WHIM_MorganFP_RF_meta.json'),\n",
    "#                  QSPRModel.fromFile('./qspr/models/MS_WHIM_Rdkit_RF/MS_WHIM_Rdkit_RF_meta.json'),\n",
    "#                  QSPRModel.fromFile('./qspr/models/MS_WHIM_MorganFP_Rdkit_RF/MS_WHIM_MorganFP_Rdkit_RF_meta.json')]"
   ]
  },
  {
   "cell_type": "markdown",
   "id": "5b70d8a0-f908-47f3-aad7-eea75f659d47",
   "metadata": {
    "tags": []
   },
   "source": [
    "# Model construction"
   ]
  },
  {
   "cell_type": "markdown",
   "id": "53133631-181d-4c51-a920-70711fa3b05f",
   "metadata": {
    "tags": []
   },
   "source": [
    "## Random Forest"
   ]
  },
  {
   "cell_type": "raw",
   "id": "6fe7cf6d-8aa8-4604-8cad-c7b2f05c7d4a",
   "metadata": {
    "tags": []
   },
   "source": [
    "## RF params\n",
    "'bootstrap': True,\n",
    " 'ccp_alpha': 0.0,\n",
    " 'class_weight': None,\n",
    " 'criterion': 'gini',\n",
    " 'max_depth': None,\n",
    " 'max_features': 'sqrt',\n",
    " 'max_leaf_nodes': None,\n",
    " 'max_samples': None,\n",
    " 'min_impurity_decrease': 0.0,\n",
    " 'min_samples_leaf': 1,\n",
    " 'min_samples_split': 2,\n",
    " 'min_weight_fraction_leaf': 0.0,\n",
    " 'n_estimators': 100,\n",
    " 'n_jobs': None,\n",
    " 'oob_score': False,\n",
    " 'random_state': None,\n",
    " 'verbose': 0,\n",
    " 'warm_start': False}"
   ]
  },
  {
   "cell_type": "markdown",
   "id": "9aa73896-6d4b-40dd-8ae0-3050bbfd46a4",
   "metadata": {
    "tags": []
   },
   "source": [
    "### activity comparison"
   ]
  },
  {
   "cell_type": "code",
   "execution_count": null,
   "id": "516ddd7b-add6-4f8f-a39e-c2632c25dcdd",
   "metadata": {
    "tags": []
   },
   "outputs": [],
   "source": [
    "params = {\n",
    "    'n_estimators' : [\"int\", 50, 500],\n",
    "    'n_jobs' : [4]\n",
    "}\n",
    "\n",
    "\n",
    "fitted_models = []\n",
    "for dataset in [ds, ds2]:\n",
    "    dataset.nJobs = 4\n",
    "    \n",
    "    model = QSPRsklearnPCM(base_dir = '.', data=dataset, alg = RandomForestClassifier, name= f\"{dataset.name[11:]}_RF\")\n",
    "\n",
    "    bayesoptimizer = OptunaOptimization(scoring = model.score_func, param_grid=params, n_trials=5)\n",
    "    best_params = bayesoptimizer.optimize(model)\n",
    "\n",
    "    model.evaluate()\n",
    "    model.fit()\n",
    "    \n",
    "    fitted_models.append(model)\n",
    "\n",
    "fitted_models"
   ]
  },
  {
   "cell_type": "code",
   "execution_count": null,
   "id": "c5f3bd60-5bbf-49fb-b072-070646a00058",
   "metadata": {
    "tags": []
   },
   "outputs": [],
   "source": [
    "plot = ROCPlot(fitted_models)\n",
    "plot.make(\"pchembl_value_Median_class\", 'cv', save = True, show=True)"
   ]
  },
  {
   "cell_type": "code",
   "execution_count": null,
   "id": "0fab570b-4508-4dfb-a3f7-aa80c70b2bbb",
   "metadata": {
    "tags": []
   },
   "outputs": [],
   "source": [
    "plot = MetricsPlot(fitted_models)\n",
    "figs, summary = plot.make(\"pchembl_value_Median_class\", show=True, save=True, out_dir=\"qspr/models/\")"
   ]
  },
  {
   "cell_type": "code",
   "execution_count": null,
   "id": "b2d9ef63-a069-4e02-ba09-37edd188e17b",
   "metadata": {
    "tags": []
   },
   "outputs": [],
   "source": [
    "summary.T"
   ]
  },
  {
   "cell_type": "code",
   "execution_count": null,
   "id": "797247d6-afb1-44b5-95e2-93ac3660ea9f",
   "metadata": {},
   "outputs": [],
   "source": [
    "for model in fitted_models:\n",
    "    model.save()"
   ]
  },
  {
   "cell_type": "markdown",
   "id": "38466a07-440d-437c-8636-b042e424ae9d",
   "metadata": {},
   "source": [
    "**no significant difference in metrics can be spotted between the two dataset, so for all further models, the dataset with only \"Ki\" and \"IC50\" will be used/included.**"
   ]
  },
  {
   "cell_type": "markdown",
   "id": "531fe055-ba36-4a1e-80a6-cd12d02c36dc",
   "metadata": {},
   "source": [
    "### descriptor comparison"
   ]
  },
  {
   "cell_type": "markdown",
   "id": "981ee4a5-af05-4b29-bfbc-eeaefd2c7c48",
   "metadata": {
    "tags": []
   },
   "source": [
    "#### Z-scale with 3 PCs and protFP feature (hashed)"
   ]
  },
  {
   "cell_type": "code",
   "execution_count": null,
   "id": "1a475426-d27e-4dc7-bf10-338c48f66a56",
   "metadata": {},
   "outputs": [],
   "source": [
    "params = {\n",
    "    'n_estimators' : [\"int\", 50, 500],\n",
    "    'n_jobs' : [\"int\", 4]\n",
    "}\n",
    "\n",
    "params = {\"n_estimators\": [\"int\", 10, 2000],\n",
    "        \"max_depth\": [\"int\", 1, 100],\n",
    "        \"min_samples_leaf\": [\"int\", 1, 25],\n",
    "        \"max_features\": [\"int\", 1, 100], \n",
    "        \"min_samples_split\": [\"int\", 2, 12],\n",
    "         'n_jobs' : [4]}"
   ]
  },
  {
   "cell_type": "code",
   "execution_count": null,
   "id": "8f910e8f-856b-46d2-9a15-1d66825d1461",
   "metadata": {
    "tags": []
   },
   "outputs": [],
   "source": [
    "fitted_models = []\n",
    "for dataset in DS_LIST:\n",
    "    dataset.nJobs = 4\n",
    "    \n",
    "    model = QSPRsklearnPCM(base_dir = 'qspr/models/LeaveTargetSplit_4', data=dataset, alg = RandomForestClassifier, name= f\"{dataset.name[11:]}_RF_TargetSplit4\")\n",
    "\n",
    "    bayesoptimizer = OptunaOptimization(scoring = model.score_func, param_grid=params, n_trials=5)\n",
    "    best_params = bayesoptimizer.optimize(model)\n",
    "\n",
    "    model.evaluate()\n",
    "    model.fit()\n",
    "    model.save()\n",
    "    \n",
    "    fitted_models.append(model)\n",
    "\n",
    "fitted_model"
   ]
  },
  {
   "cell_type": "code",
   "execution_count": null,
   "id": "e324bb40-20d1-4095-8428-c89d9cd3c769",
   "metadata": {},
   "outputs": [],
   "source": [
    "plot = ROCPlot(fitted_models)\n",
    "plot.make(\"pchembl_value_Median_class\", 'cv', save = False, show=True)"
   ]
  },
  {
   "cell_type": "code",
   "execution_count": null,
   "id": "ee7916fe-012b-4b0e-b92c-da2a795fb7be",
   "metadata": {},
   "outputs": [],
   "source": [
    "plot_metric = MetricsPlot(fitted_models)\n",
    "figs, summary = plot_metric.make(\"pchembl_value_Median_class\", show=False, save=False, out_dir=\"qspr/models/\")"
   ]
  },
  {
   "cell_type": "code",
   "execution_count": null,
   "id": "55f5ad71-87c5-40d6-ba43-511d83e8ff83",
   "metadata": {},
   "outputs": [],
   "source": [
    "summary"
   ]
  },
  {
   "cell_type": "markdown",
   "id": "0c7be09e-fab9-4ebb-8142-3c0261858e93",
   "metadata": {
    "tags": []
   },
   "source": [
    "#### MS-WHIM"
   ]
  },
  {
   "cell_type": "code",
   "execution_count": null,
   "id": "8123e6e0-4304-4cda-9dfc-d44d1662b3c7",
   "metadata": {},
   "outputs": [],
   "source": [
    "params = {\n",
    "    'n_estimators' : [\"int\", 50, 500],\n",
    "    'n_jobs' : [\"int\", 4]\n",
    "}\n",
    "\n",
    "params = {\"n_estimators\": [\"int\", 10, 2000],\n",
    "        \"max_depth\": [\"int\", 1, 100],\n",
    "        \"min_samples_leaf\": [\"int\", 1, 25],\n",
    "        \"max_features\": [\"int\", 1, 100], \n",
    "        \"min_samples_split\": [\"int\", 2, 12],\n",
    "         'n_jobs' : [4]}"
   ]
  },
  {
   "cell_type": "code",
   "execution_count": null,
   "id": "cf71483c-d2b2-497d-a81a-e593f873ffca",
   "metadata": {
    "tags": []
   },
   "outputs": [],
   "source": [
    "fitted_models = []\n",
    "for dataset in DS_LIST:\n",
    "    dataset.nJobs = 4\n",
    "    \n",
    "    model = QSPRsklearnPCM(base_dir = 'qspr/models/LeaveTargetSplit_4', data=dataset, alg = RandomForestClassifier, name= f\"{dataset.name[11:]}_RF_TargetSplit4\")\n",
    "\n",
    "    bayesoptimizer = OptunaOptimization(scoring = model.score_func, param_grid=params, n_trials=5)\n",
    "    best_params = bayesoptimizer.optimize(model)\n",
    "\n",
    "    model.evaluate()\n",
    "    model.fit()\n",
    "    model.save()\n",
    "    \n",
    "    fitted_models.append(model)\n",
    "\n",
    "fitted_model"
   ]
  },
  {
   "cell_type": "code",
   "execution_count": null,
   "id": "210b7fb6-b4bf-4fd3-84b1-0bcbd455622b",
   "metadata": {},
   "outputs": [],
   "source": [
    "plot = ROCPlot(fitted_models)\n",
    "plot.make(\"pchembl_value_Median_class\", 'cv', save = False, show=True)"
   ]
  },
  {
   "cell_type": "code",
   "execution_count": null,
   "id": "f13915e0-acf0-4eb6-8e12-bf531adfdf39",
   "metadata": {},
   "outputs": [],
   "source": [
    "plot_metric = MetricsPlot(fitted_models)\n",
    "figs, summary = plot_metric.make(\"pchembl_value_Median_class\", show=False, save=False, out_dir=\"qspr/models/\")"
   ]
  },
  {
   "cell_type": "code",
   "execution_count": null,
   "id": "5704e214-20e3-4582-9051-98486b377536",
   "metadata": {},
   "outputs": [],
   "source": [
    "summary"
   ]
  },
  {
   "cell_type": "code",
   "execution_count": null,
   "id": "f3765f44-54e0-4dd0-b2e1-a1a8cba0e5a8",
   "metadata": {},
   "outputs": [],
   "source": []
  },
  {
   "cell_type": "code",
   "execution_count": null,
   "id": "1b5962b2-fd3e-4235-a6f5-a1b450b1f2ea",
   "metadata": {},
   "outputs": [],
   "source": []
  }
 ],
 "metadata": {
  "kernelspec": {
   "display_name": "Python-QSPRpred",
   "language": "python",
   "name": "python-qsprpred"
  },
  "language_info": {
   "codemirror_mode": {
    "name": "ipython",
    "version": 3
   },
   "file_extension": ".py",
   "mimetype": "text/x-python",
   "name": "python",
   "nbconvert_exporter": "python",
   "pygments_lexer": "ipython3",
   "version": "3.10.11"
  }
 },
 "nbformat": 4,
 "nbformat_minor": 5
}
